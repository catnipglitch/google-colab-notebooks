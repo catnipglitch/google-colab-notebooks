{
 "cells": [
  {
   "cell_type": "code",
   "execution_count": null,
   "metadata": {
    "id": "862SR2oqqjR-"
   },
   "outputs": [],
   "source": []
  },
  {
   "cell_type": "code",
   "execution_count": null,
   "metadata": {},
   "outputs": [],
   "source": [
    "vs codeで編集したよ\n"
   ]
  },
  {
   "cell_type": "markdown",
   "metadata": {
    "id": "TeaSDTgaqqGr"
   },
   "source": [
    "#### テストー"
   ]
  }
 ],
 "metadata": {
  "colab": {
   "authorship_tag": "ABX9TyO130cd5whdJ8047oTwfWRb",
   "provenance": []
  },
  "kernelspec": {
   "display_name": "Python 3",
   "name": "python3"
  },
  "language_info": {
   "name": "python"
  }
 },
 "nbformat": 4,
 "nbformat_minor": 0
}
